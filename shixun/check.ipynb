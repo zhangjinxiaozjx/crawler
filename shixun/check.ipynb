{
 "cells": [
  {
   "cell_type": "code",
   "execution_count": 8,
   "metadata": {},
   "outputs": [],
   "source": [
    "import requests\n",
    "from collections import OrderedDict\n",
    "from lxml import etree\n",
    "import json"
   ]
  },
  {
   "cell_type": "code",
   "execution_count": 9,
   "metadata": {},
   "outputs": [],
   "source": [
    "URL_JFK=\"http://211.87.230.30:8080\"\n",
    "url_model = \"http://www.gotopku.cn/programa/admitline/7/%s.html\""
   ]
  },
  {
   "cell_type": "code",
   "execution_count": 18,
   "metadata": {},
   "outputs": [
    {
     "name": "stdout",
     "output_type": "stream",
     "text": [
      "2008 over\n",
      "sent <Response [200]>\n",
      "2009 over\n",
      "sent <Response [200]>\n",
      "2010 over\n",
      "sent <Response [200]>\n",
      "2011 over\n",
      "sent <Response [200]>\n",
      "2012 over\n",
      "sent <Response [200]>\n",
      "2013 over\n",
      "sent <Response [200]>\n",
      "2014 over\n",
      "sent <Response [200]>\n",
      "2015 over\n",
      "sent <Response [200]>\n",
      "2016 over\n",
      "sent <Response [200]>\n",
      "2017 over\n",
      "sent <Response [200]>\n",
      "2018 over\n",
      "sent <Response [200]>\n"
     ]
    }
   ],
   "source": [
    "for i in range(2008,2019):\n",
    "    url = url_model%str(i)\n",
    "    r = requests.get(url)\n",
    "    html = r.text\n",
    "    s = etree.HTML(html)\n",
    "    \n",
    "    xpath0 = '/html/body/div[5]/div[2]/table/tr'\n",
    "    xpathpro = '/td[1]//text()'\n",
    "    xpathpc = '/td[2]//text()'\n",
    "    xpathwkmin = '/td[3]//text()'\n",
    "    xpathlkmin = '/td[4]//text()'\n",
    "    xpathzhmin = '/td[5]//text()'\n",
    "    \n",
    "    countpath = xpath0+xpathpro\n",
    "    contentcount = s.xpath(countpath)\n",
    "    count = len(contentcount)\n",
    "    \n",
    "    ret = []\n",
    "    \n",
    "    for j in range(2,count+1):\n",
    "        xppro = xpath0+'['+str(j)+']'+xpathpro\n",
    "        pro = s.xpath(xppro)[0]\n",
    "        #print(pro)\n",
    "        \n",
    "        xppc = xpath0+'['+str(j)+']'+xpathpc\n",
    "        pc = s.xpath(xppc)\n",
    "        if len(pc)==0 or pc==\"-\":\n",
    "            pc = \"不分批次\"\n",
    "        else:\n",
    "            pc = \"本科\"+s.xpath(xppc)[0]\n",
    "        \n",
    "        \n",
    "        xpwk = xpath0+'['+str(j)+']'+xpathwkmin\n",
    "        wkmin = s.xpath(xpwk)[0]\n",
    "        \n",
    "        \n",
    "        xplk = xpath0+'['+str(j)+']'+xpathlkmin\n",
    "        lkmin = s.xpath(xplk)[0]\n",
    "        \n",
    "        xpzh = xpath0+'['+str(j)+']'+xpathzhmin\n",
    "        zhmin = s.xpath(xpzh)[0]\n",
    "        \n",
    "        \n",
    "        item1 = OrderedDict()\n",
    "        item2 = OrderedDict()\n",
    "        item3 = OrderedDict()\n",
    "        item1.clear()\n",
    "        item2.clear()\n",
    "        item3.clear()\n",
    "        \n",
    "\n",
    "        item1['school']=\"北京大学\"\n",
    "        item1['year']=i\n",
    "        item1['province']=pro\n",
    "        item1['category']=\"文科\"\n",
    "        item1['batch']=pc\n",
    "        item1['avegrade']=None\n",
    "        item1['maxgrade']=None\n",
    "        item1['mingrade']=wkmin\n",
    "        if item1['mingrade'] ==\"-\" or item1['mingrade']==None:\n",
    "            item1.clear()\n",
    "        else:\n",
    "            ret.append(item1)\n",
    "        \n",
    "        \n",
    "        \n",
    "        item2['school']=\"北京大学\"\n",
    "        item2['year']=i\n",
    "        item2['province']=pro\n",
    "        item2['category']=\"理科\"\n",
    "        item2['batch']=pc\n",
    "        item2['avegrade']=None\n",
    "        item2['maxgrade']=None\n",
    "        item2['mingrade']=lkmin\n",
    "        if item2['mingrade'] ==\"-\"or item2['mingrade']==None:\n",
    "            item2.clear()\n",
    "        else:\n",
    "            ret.append(item2)\n",
    "        \n",
    "        \n",
    "        item3['school']=\"北京大学\"\n",
    "        item3['year']=i\n",
    "        item3['province']=pro\n",
    "        item3['category']=\"综合\"\n",
    "        item3['batch']=pc\n",
    "        item3['avegrade']=None\n",
    "        item3['maxgrade']=None\n",
    "        item3['mingrade']=zhmin\n",
    "        if item3['mingrade'] ==\"-\" or item3['mingrade']==None:\n",
    "            item3.clear()\n",
    "        else:\n",
    "            ret.append(item3)\n",
    "        \n",
    "    data = {'scutoffs':ret}\n",
    "    json_str = json.dumps(data,indent=4,ensure_ascii=False)\n",
    "    \n",
    "    print(i,\"over\")\n",
    "    #print(json_str)\n",
    "    \n",
    "    headers = {'Content-Type':'application/json'}\n",
    "    request = requests.post(URL_JFK+'/addScutoffs',data = json_str.encode('utf-8'),headers=headers)\n",
    "    print(\"sent\",request)    \n",
    "        \n",
    "        \n",
    "        "
   ]
  },
  {
   "cell_type": "code",
   "execution_count": null,
   "metadata": {},
   "outputs": [],
   "source": [
    "count = 2018\n",
    "url = url_model%count"
   ]
  },
  {
   "cell_type": "code",
   "execution_count": 5,
   "metadata": {},
   "outputs": [],
   "source": [
    "r = requests.get(url)"
   ]
  },
  {
   "cell_type": "code",
   "execution_count": 6,
   "metadata": {},
   "outputs": [],
   "source": [
    "html = r.text"
   ]
  },
  {
   "cell_type": "code",
   "execution_count": 7,
   "metadata": {},
   "outputs": [],
   "source": [
    "s = etree.HTML(html)"
   ]
  },
  {
   "cell_type": "code",
   "execution_count": 8,
   "metadata": {},
   "outputs": [
    {
     "name": "stdout",
     "output_type": "stream",
     "text": [
      "['北京']\n"
     ]
    }
   ],
   "source": [
    "content = s.xpath('/html/body/div[5]/div[2]/table/tr[2]/td[1]//text()')\n",
    "print(content)"
   ]
  },
  {
   "cell_type": "code",
   "execution_count": 9,
   "metadata": {},
   "outputs": [],
   "source": [
    "xpath0 = '/html/body/div[5]/div[2]/table/tr'\n",
    "xpathpro = '/td[1]//text()'\n",
    "xpathpc = '/td[2]//text()'\n",
    "xpathwkmin = '/td[3]//text()'\n",
    "xpathlkmin = '/td[4]//text()'\n",
    "xpathzhmin = '/td[5]//text()'"
   ]
  },
  {
   "cell_type": "code",
   "execution_count": 16,
   "metadata": {},
   "outputs": [
    {
     "name": "stdout",
     "output_type": "stream",
     "text": [
      "['类别', '提前批-朝鲜语', '一批', '提前批-印度尼西亚语', '提前批-葡萄牙语', '提前批-俄语', '提前批-泰语', '提前批-阿拉伯语', '提前批-日语', '提前批-西班牙语', '提前批-德语', '提前批-法语', '一批', '一批', '一批', '一批', '一批', '一批', '一批', '物理科目组', '不限科目组', '一批', '工商管理类', '数学类', '理科实验班类', '计算机类', '物理学类', '一批', '一批', '一批', '一批', '一批', '一批', '一批', '一批', '一批', '一批', '一批', '一批', '一批', '提前重点汉族批次', '提前重点少数民族批次', '一批', '一批', '一批', '一批', '一批']\n"
     ]
    }
   ],
   "source": [
    "countxpath = xpath0+xpathpc\n",
    "contentcount = s.xpath(countxpath)\n",
    "print(contentcount)"
   ]
  },
  {
   "cell_type": "code",
   "execution_count": 11,
   "metadata": {},
   "outputs": [],
   "source": [
    "cou = len(contentcount)"
   ]
  },
  {
   "cell_type": "code",
   "execution_count": 14,
   "metadata": {},
   "outputs": [
    {
     "name": "stdout",
     "output_type": "stream",
     "text": [
      "[<Element tr at 0x108cb1c48>, <Element tr at 0x108ccd248>, <Element tr at 0x108ccd408>, <Element tr at 0x108ccd2c8>, <Element tr at 0x108ccd1c8>, <Element tr at 0x108ccd448>, <Element tr at 0x108ccd488>, <Element tr at 0x108ccd4c8>, <Element tr at 0x108ccd508>, <Element tr at 0x108ccd308>, <Element tr at 0x108ccd548>, <Element tr at 0x108ccd588>, <Element tr at 0x108ccd5c8>, <Element tr at 0x108ccd608>, <Element tr at 0x108ccd648>, <Element tr at 0x108ccd688>, <Element tr at 0x108ccd6c8>, <Element tr at 0x108ccd708>, <Element tr at 0x108ccd748>, <Element tr at 0x108ccd788>, <Element tr at 0x108ccd7c8>, <Element tr at 0x108ccd808>, <Element tr at 0x108ccd848>, <Element tr at 0x108ccd888>, <Element tr at 0x108ccd8c8>, <Element tr at 0x108d59a48>, <Element tr at 0x108d59a88>, <Element tr at 0x108d59ac8>, <Element tr at 0x108d59b08>, <Element tr at 0x108d59b48>, <Element tr at 0x108d59b88>, <Element tr at 0x108d59bc8>, <Element tr at 0x108d59c08>, <Element tr at 0x108d59c48>, <Element tr at 0x108d59c88>, <Element tr at 0x108d59cc8>, <Element tr at 0x108d59d08>, <Element tr at 0x108d59d48>, <Element tr at 0x108d59d88>, <Element tr at 0x108d59dc8>, <Element tr at 0x108d59e08>, <Element tr at 0x108d59e48>, <Element tr at 0x108d59e88>, <Element tr at 0x108d59ec8>, <Element tr at 0x108d59f08>, <Element tr at 0x108d59f48>, <Element tr at 0x108d59f88>, <Element tr at 0x108d59fc8>]\n"
     ]
    }
   ],
   "source": [
    "content1 = s.xpath(xpath0)\n",
    "print(content1)"
   ]
  },
  {
   "cell_type": "code",
   "execution_count": null,
   "metadata": {},
   "outputs": [],
   "source": [
    "for i in range(2,)"
   ]
  }
 ],
 "metadata": {
  "kernelspec": {
   "display_name": "Python 3",
   "language": "python",
   "name": "python3"
  },
  "language_info": {
   "codemirror_mode": {
    "name": "ipython",
    "version": 3
   },
   "file_extension": ".py",
   "mimetype": "text/x-python",
   "name": "python",
   "nbconvert_exporter": "python",
   "pygments_lexer": "ipython3",
   "version": "3.6.5"
  }
 },
 "nbformat": 4,
 "nbformat_minor": 2
}
