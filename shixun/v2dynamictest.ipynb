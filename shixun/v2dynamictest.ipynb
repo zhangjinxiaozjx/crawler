{
 "cells": [
  {
   "cell_type": "code",
   "execution_count": 6,
   "metadata": {
    "collapsed": true
   },
   "outputs": [],
   "source": [
    "#version1.0的最终版。爬取个特定网页，用pagenum表示某个特定省份的数目\n",
    "#可以运行，是第一版的最终版本，数据是一坨，一页一个[]\n",
    "import requests\n",
    "from bs4 import BeautifulSoup\n",
    "from lxml import etree"
   ]
  },
  {
   "cell_type": "code",
   "execution_count": 7,
   "metadata": {
    "collapsed": true
   },
   "outputs": [],
   "source": [
    "ini_url = \"http://college.gaokao.com/spepoint/a2/y2012/p\""
   ]
  },
  {
   "cell_type": "code",
   "execution_count": 8,
   "metadata": {
    "collapsed": true
   },
   "outputs": [],
   "source": [
    "filename = '/User/ZJX/Desktop/text.txt'"
   ]
  },
  {
   "cell_type": "code",
   "execution_count": 9,
   "metadata": {
    "collapsed": true
   },
   "outputs": [],
   "source": [
    "pagenum = 310\n"
   ]
  },
  {
   "cell_type": "code",
   "execution_count": null,
   "metadata": {},
   "outputs": [],
   "source": []
  },
  {
   "cell_type": "code",
   "execution_count": 10,
   "metadata": {},
   "outputs": [],
   "source": [
    "with open(\"/Users/ZJX/Desktop/tianjin.txt\",'w',encoding='utf-8') as f:\n",
    "    for a in range(1,pagenum):\n",
    "        url = ini_url+str(a)\n",
    "        #print(url)\n",
    "        r=requests.get(url)\n",
    "        html=r.text\n",
    "        \n",
    "        s = etree.HTML(html)\n",
    "        content = s.xpath('//*[@id=\"wrapper\"]/div[4]/table')\n",
    "        #获得整个表\n",
    "        \n",
    "        #获取实际输出的数据\n",
    "        for td in content:\n",
    "            data = td.xpath(\"./tr/td[position()<9]//text()\")\n",
    "            f.write(\"{}\\n\".format(data))\n",
    "            \n",
    "            \n",
    "            \n",
    "            "
   ]
  },
  {
   "cell_type": "code",
   "execution_count": 14,
   "metadata": {},
   "outputs": [
    {
     "data": {
      "text/plain": [
       "'<!DOCTYPE html PUBLIC \"-//W3C//DTD XHTML 1.0 Transitional//EN\" \"http://www.w3.org/TR/xhtml1/DTD/xhtml1-transitional.dtd\">\\n<html xmlns=\"http://www.w3.org/1999/xhtml\">\\n <head>\\n  <meta content=\"text/html;charset=utf-8\" http-equiv=\"Content-Type\"/>\\n  <meta content=\"format=wml;url=http://college.gaokao.com/sitemap/college.gaokao.com.xml\" http-equiv=\"mobile-agent\"/>\\n  <meta content=\"no-transform\" http-equiv=\"”Cache-Control”\"/>\\n  <meta content=\"2012专业录取分数线,北京高校专业分数线,录取分数线,专业分数线,所有专业录取分数线\" name=\"keywords\"/>\\n  <meta content=\"\" name=\"description\"/>\\n  <title>\\n   2012北京高校专业分数线_高考专业录取分数线_高考院校库\\n  </title>\\n  <link href=\"http://www.gaokao.com/favicon.ico\" rel=\"shortcut icon\"/>\\n  <link href=\"http://college.gaokao.com/style/college/css/base.css\" rel=\"stylesheet\" type=\"text/css\"/>\\n  <link href=\"http://college.gaokao.com/style/college/css/style.css?2014623\" rel=\"stylesheet\" type=\"text/css\"/>\\n  <link href=\"http://college.gaokao.com/style/college/css/nav_jump_gk.css\" rel=\"stylesheet\" type=\"text/css\"/>\\n  <script src=\"http://college.gaokao.com/style/college/js/jquery.js\" type=\"text/javascript\">\\n  </script>\\n  <script src=\"http://college.gaokao.com/style/college/js/common.js\" type=\"text/javascript\">\\n  </script>\\n  <script src=\"http://cbjs.baidu.com/js/s.js\" type=\"text/javascript\">\\n  </script>\\n  <!--[if IE 6]>\\r\\n\\r\\n    <script type=\"text/javascript\" src=\"http://img.eduuu.com/website/public_js/DD_belatedPNG.js\" ></script>\\r\\n\\r\\n    <script type=\"text/javascript\">\\r\\n\\r\\n    DD_belatedPNG.fix(\\'..collegeName b,.collegeName .areaBox em,table em,.classColl .areaBox .arry, .f_foot_bg, .head p span a\\');\\r\\n\\r\\n    </script>\\r\\n\\r\\n<![endif]-->\\n  <!--新增-->\\n  <link href=\"http://www.gaokao.com/public/css/new_base.css\" rel=\"stylesheet\" type=\"text/css\"/>\\n  <link href=\"http://www.gaokao.com/public/css/common.css\" rel=\"stylesheet\" type=\"text/css\"/>\\n  <script src=\"http://www.gaokao.com/public/js/jquery-1.9.1.min.js\" type=\"text/javascript\">\\n  </script>\\n  <script src=\"http://www.gaokao.com/public/js/common.js\" type=\"text/javascript\">\\n  </script>\\n </head>\\n <body>\\n  <!--网站新头 开始-->\\n  <!-- <link href=\\'nav_jump_gk.css?2012-05-17\\' type=\\'text/css\\' rel=\\'stylesheet\\' /> -->\\n  <!--头部-->\\n  <!-- \\r\\n<script src=\"http://gkcms.oss-cn-beijing.aliyuncs.com/attachs/static/gaokao/2015/topMenu_gaokao.js?041322\" charset=\"gbk\"></script>\\r\\n<script src=\"http://img.eduuu.com/website/public_js/topMenu_gaokao.js\"></script> -->\\n  <!--<script type=\"text/javascript\" src=\"http://college.gaokao.com/style/college/js/topMenu_gaokao.js?123\" charset=\"gbk\"></script>-->\\n  <!-- <script src=\"http://img.eduuu.com/gaokao/2015/topMenu_gaokao.js?0413\" charset=\"gbk\"></script>-->\\n  <!-- <div id=\"ad_top_gkw\" style=\"width:950px;height:250px;margin:0 auto;margin-bottom:10px;\"><a href=\"http://www.gaokao.com/z2015/gkbgkw/\"><img src=\"http://gkcms.oss-cn-beijing.aliyuncs.com/attachs/img/2016/12/07/135139_5847a36ba69f5.jpg\" alt=\"高考帮\" style=\"width:100%;\" target=\"_blank\"></a></div>\\r\\n<script type=\"text/javascript\">\\r\\n $(document).ready(function() {\\r\\n\\tvar i=3;\\r\\n\\tvar timer;\\r\\n\\t   timer=setInterval(fun, 1000);\\t\\t\\r\\n\\t\\t\\tfunction fun(){\\r\\n\\t\\t\\t\\tif(i==0){\\r\\n\\t\\t\\t\\t\\t$(\"#ad_top_gkw\").slideUp(700);\\r\\n\\t\\t\\t\\t}\\r\\n\\t\\t\\t\\ti--;\\r\\n\\t\\t\\t}\\r\\n           \\t\\r\\n\\t});\\r\\n\\t\\t\\t\\r\\n\\t\\t\\t\\r\\n\\t</script>\\r\\n-->\\n  <!--header头部-->\\n  <div id=\"sec_head\">\\n   <div class=\"inner po_re\" style=\"z-index: 10;\">\\n    <div class=\"sec_head_con tp15\">\\n     <a class=\"logo\" href=\"http://www.gaokao.com\" target=\"_blank\">\\n      <img alt=\"高考帮\" height=\"70\" src=\"http://www.gaokao.com/public/images/logo.png\" title=\"高考帮\" width=\"200\"/>\\n     </a>\\n     <div class=\"newsite\">\\n      <dl>\\n       <dt>\\n        全国\\n        <i class=\"iconAll \">\\n        </i>\\n       </dt>\\n       <dd>\\n        <p>\\n         <em>\\n          热门城市\\n         </em>\\n         |\\n         <a href=\"http://www.gaokao.com/\" target=\"_blank\">\\n          全国\\n         </a>\\n         <a href=\"http://www.gaokao.com/beijing/\" target=\"_blank\" title=\"北京高考网\">\\n          北京\\n         </a>\\n         <a href=\"http://sh.gaokao.com/\" target=\"_blank\" title=\"上海高考网\">\\n          上海\\n         </a>\\n         <a href=\"http://www.gaokao.com/guangdong/\" target=\"_blank\" title=\"广东高考网\">\\n          广东\\n         </a>\\n        </p>\\n        <p>\\n         <em>\\n          华北地区\\n         </em>\\n         |\\n         <a href=\"http://www.gaokao.com/beijing/\" target=\"_blank\" title=\"北京高考网\">\\n          北京\\n         </a>\\n         <a href=\"http://www.gaokao.com/tianjin/\" target=\"_blank\" title=\"天津高考网\">\\n          天津\\n         </a>\\n         <a href=\"http://www.gaokao.com/hebei/\" target=\"_blank\" title=\"河北高考网\">\\n          河北\\n         </a>\\n         <a href=\"http://www.gaokao.com/sx/\" target=\"_blank\" title=\"山西高考网\">\\n          山西\\n         </a>\\n         <a href=\"http://www.gaokao.com/neimenggu/\" target=\"_blank\" title=\"内蒙古高考网\">\\n          内蒙古\\n         </a>\\n        </p>\\n        <p>\\n         <em>\\n          东北地区\\n         </em>\\n         |\\n         <a href=\"http://www.gaokao.com/liaoning/\" target=\"_blank\" title=\"辽宁高考网\">\\n          辽宁\\n         </a>\\n         <a href=\"http://www.gaokao.com/jilin/\" target=\"_blank\" title=\"吉林高考网\">\\n          吉林\\n         </a>\\n         <a href=\"http://www.gaokao.com/heilongjiang/\" target=\"_blank\" title=\"黑龙江高考网\">\\n          黑龙江\\n         </a>\\n        </p>\\n        <p>\\n         <em>\\n          华东地区\\n         </em>\\n         |\\n         <a href=\"http://sh.gaokao.com/\" target=\"_blank\" title=\"上海高考网\">\\n          上海\\n         </a>\\n         <a href=\"http://www.gaokao.com/jiangsu/\" target=\"_blank\" title=\"江苏高考网\">\\n          江苏\\n         </a>\\n         <a href=\"http://www.gaokao.com/zhejiang/\" target=\"_blank\" title=\"浙江高考网\">\\n          浙江\\n         </a>\\n         <a href=\"http://www.gaokao.com/anhui/\" target=\"_blank\" title=\"安徽高考网\">\\n          安徽\\n         </a>\\n         <a href=\"http://www.gaokao.com/fujian/\" target=\"_blank\" title=\"福建高考网\">\\n          福建\\n         </a>\\n         <a href=\"http://www.gaokao.com/jiangxi/\" target=\"_blank\" title=\"江西高考网\">\\n          江西\\n         </a>\\n         <a class=\"ml70\" href=\"http://www.gaokao.com/shandong/\" target=\"_blank\" title=\"山东高考网\">\\n          山东\\n         </a>\\n        </p>\\n        <p>\\n         <em>\\n          华中地区\\n         </em>\\n         |\\n         <a href=\"http://www.gaokao.com/henan/\" target=\"_blank\" title=\"河南高考网\">\\n          河南\\n         </a>\\n         <a href=\"http://www.gaokao.com/hubei/\" target=\"_blank\" title=\"湖北高考网\">\\n          湖北\\n         </a>\\n         <a href=\"http://www.gaokao.com/hunan/\" target=\"_blank\" title=\"湖南高考网\">\\n          湖南\\n         </a>\\n        </p>\\n        <p>\\n         <em>\\n          西南地区\\n         </em>\\n         |\\n         <a href=\"http://www.gaokao.com/chongqing/\" target=\"_blank\" title=\"重庆高考网\">\\n          重庆\\n         </a>\\n         <a href=\"http://www.gaokao.com/sichuan/\" target=\"_blank\" title=\"四川高考网\">\\n          四川\\n         </a>\\n         <a href=\"http://www.gaokao.com/guizhou/\" target=\"_blank\" title=\"贵州高考网\">\\n          贵州\\n         </a>\\n         <a href=\"http://www.gaokao.com/yunnan/\" target=\"_blank\" title=\"云南高考网\">\\n          云南\\n         </a>\\n         <a href=\"http://www.gaokao.com/xizang/\" target=\"_blank\" title=\"西藏高考网\">\\n          西藏\\n         </a>\\n        </p>\\n        <p>\\n         <em>\\n          西北地区\\n         </em>\\n         |\\n         <a href=\"http://www.gaokao.com/shanxi/\" target=\"_blank\" title=\"陕西高考网\">\\n          陕西\\n         </a>\\n         <a href=\"http://www.gaokao.com/gansu/\" target=\"_blank\" title=\"甘肃高考网\">\\n          甘肃\\n         </a>\\n         <a href=\"http://www.gaokao.com/qinghai/\" target=\"_blank\" title=\"青海高考网\">\\n          青海\\n         </a>\\n         <a href=\"http://www.gaokao.com/ningxia/\" target=\"_blank\" title=\"宁夏高考网\">\\n          宁夏\\n         </a>\\n         <a href=\"http://www.gaokao.com/xinjiang/\" target=\"_blank\" title=\"新疆高考网\">\\n          新疆\\n         </a>\\n        </p>\\n        <p class=\"last\">\\n         <em>\\n          华南地区\\n         </em>\\n         |\\n         <a href=\"http://www.gaokao.com/guangdong/\" target=\"_blank\" title=\"广东高考网\">\\n          广东\\n         </a>\\n         <a href=\"http://www.gaokao.com/guangxi/\" target=\"_blank\" title=\"广西高考网\">\\n          广西\\n         </a>\\n         <a href=\"http://www.gaokao.com/hainan/\" target=\"_blank\" title=\"海南高考网\">\\n          海南\\n         </a>\\n        </p>\\n       </dd>\\n      </dl>\\n     </div>\\n     <script>\\n      jQuery(function(){\\r\\n\\t\\t\\t\\t\\t\\tjQuery(\\'.newsite dl\\').hover(function(){\\r\\n\\t\\t\\t\\t\\t\\t\\tjQuery(this).addClass(\\'on\\');\\r\\n\\t\\t\\t\\t\\t\\t},function(){\\r\\n\\t\\t\\t\\t\\t\\t\\tjQuery(this).removeClass(\\'on\\');\\r\\n\\t\\t\\t\\t\\t\\t});\\r\\n\\t\\t\\t\\t\\t});\\n     </script>\\n     <div class=\"nav tp20 lp20\">\\n      <a href=\"/\" target=\"_blank\" title=\"首页\">\\n       首页\\n      </a>\\n      <a href=\"http://www.gaokao.com/beikao/\" target=\"_blank\" title=\"备考\">\\n       备考\\n      </a>\\n      <a href=\"http://www.gaokao.com/baokao/\" target=\"_blank\" title=\"报考\">\\n       报考\\n      </a>\\n      <a href=\"http://www.gaokao.com/gdgkkx/\" target=\"_blank\" title=\"资讯\">\\n       资讯\\n      </a>\\n      <a href=\"http://www.gaokao.com/gkbms/\" target=\"_blank\" title=\"名师\">\\n       名师\\n      </a>\\n      <a class=\"errorTips\" href=\"javascript:;\" title=\"金砖商城\">\\n       金砖商城\\n      </a>\\n      <a href=\"http://www.gaokaopai.com/svip\" target=\"_blank\" title=\"会员专区\">\\n       会员专区\\n      </a>\\n      <!--<span class=\"line\"></span>\\r\\n\\t\\t\\t\\t\\t\\t\\r\\n\\t\\t\\t\\t\\t\\t<a href=\"#\" target=\"_blank\" title=\"上传文档\">上传文档</a>-->\\n     </div>\\n     <div class=\"topNavR\" style=\"padding-top:0\">\\n      <!--<a href=\"#\" class=\"zhuce_login rm10\">注册/登录</a>-->\\n      <ul class=\"con_us clearfix\">\\n       <li class=\"t\">\\n        <a class=\"tel_ic iconAll\" href=\"http://www.jzb.com/app/\" rel=\"nofollow\" style=\"background: url(http://gkb-cms.oss-cn-beijing.aliyuncs.com/attachs/img/2018/03/16/163050_5aab80bacfa0e.png);\" target=\"_blank\" title=\"移动APP\">\\n        </a>\\n        家长帮APP\\n        <div class=\"tips\" style=\"top: 80px; right: -55px; display: none;\">\\n         <div class=\"triangle-up\">\\n         </div>\\n         <div class=\"part part1\">\\n          <div class=\"fl conL\">\\n           <img alt=\"家长帮\" data-bd-imgshare-binded=\"1\" height=\"90\" src=\"http://img.eduuu.com/edu/ad/wm2.gif\" width=\"90\"/>\\n          </div>\\n          <div class=\"fr conR\">\\n           <h3>\\n            家长帮APP\\n           </h3>\\n           <span>\\n            家庭教育家长帮\\n           </span>\\n           <p class=\"downA\">\\n            <a href=\"http://mapi.eduu.com/a?c=46&amp;tid=1&amp;d=1\" rel=\"nofollow\">\\n             <span>\\n              <i class=\"icon1\">\\n              </i>\\n             </span>\\n             iPhone\\n            </a>\\n            <a href=\"http://mapi.eduu.com/a?c=46&amp;tid=2&amp;d=1\">\\n             <span>\\n              <i class=\"icon2\">\\n              </i>\\n             </span>\\n             Android\\n            </a>\\n           </p>\\n          </div>\\n         </div>\\n        </div>\\n       </li>\\n       <li class=\"w\">\\n        <a class=\"wx_ic iconAll\" href=\"javascript:;\">\\n        </a>\\n        微 信\\n        <div class=\"tips\" style=\"top:77px;right: -70px;\">\\n         <div class=\"triangle-up\">\\n         </div>\\n         <div class=\"part part1\">\\n          <div class=\"fl conL\">\\n           <img height=\"90\" src=\"http://www.gaokao.com/public/images/gkw.jpg\" width=\"90\"/>\\n          </div>\\n          <div class=\"fr conR\">\\n           <div>\\n            <h3>\\n             关注高考帮公众号\\n            </h3>\\n            <p class=\"pys\">\\n             （www_gaokao_com）\\n             <br/>\\n             了解更多高考资讯\\n            </p>\\n           </div>\\n          </div>\\n         </div>\\n         <div class=\"part\">\\n          <div class=\"fl conL\">\\n           <img height=\"90\" src=\"http://www.gaokao.com/public/images/gkp.jpg\" width=\"90\"/>\\n          </div>\\n          <div class=\"fr conR\">\\n           <div>\\n            <h3>\\n             关注高考派公众号\\n            </h3>\\n            <p class=\"pys\">\\n             （igaokaopai）\\n             <br/>\\n             关注志愿填报讲座\\n            </p>\\n           </div>\\n          </div>\\n         </div>\\n        </div>\\n       </li>\\n      </ul>\\n     </div>\\n     <script type=\"text/javascript\">\\n      Hover(\\'.con_us\\',\\'.tips\\',\\'on\\')\\n     </script>\\n    </div>\\n   </div>\\n   <div class=\"highlightBg png\">\\n   </div>\\n  </div>\\n  <div class=\"wrap\">\\n   <div class=\"logoArea\">\\n    您现在的位置：\\n    <span class=\"dress\">\\n     <a href=\"http://college.gaokao.com/\">\\n      高考院校库\\n     </a>\\n     &gt; 专业分数线\\n    </span>\\n   </div>\\n   <div class=\"channel_Nav\">\\n    <div class=\"right search_Box ft14\">\\n     <input class=\"search_Txt\" id=\"schname_h\" onblur=\"if(!this.value) this.value=\\'搜索高校\\'\" onfocus=\"this.value=\\'\\'\" size=\"20\" type=\"text\" value=\"搜索高校\"/>\\n     <input class=\"search_Btn\" id=\"schbtn_h\" type=\"button\" value=\"搜索\"/>\\n    </div>\\n    <ul>\\n     <li>\\n      <a href=\"http://college.gaokao.com/schlist/\">\\n       高校搜索\\n      </a>\\n     </li>\\n     <li>\\n      <a href=\"http://college.gaokao.com/spelist/\">\\n       专业搜索\\n      </a>\\n     </li>\\n     <li>\\n      <a href=\"http://college.gaokao.com/schpoint/\">\\n       高校分数线\\n      </a>\\n     </li>\\n     <li>\\n      <a class=\"on\" href=\"http://college.gaokao.com/spepoint/\">\\n       专业分数线\\n      </a>\\n     </li>\\n     <li>\\n      <a href=\"http://college.gaokao.com/areapoint/\">\\n       地区批次线\\n      </a>\\n     </li>\\n    </ul>\\n   </div>\\n  </div>\\n  <script type=\"text/javascript\">\\n   //头部高校搜索\\r\\n\\r\\n$(\"#schbtn_h\").click(function(){\\r\\n\\r\\n    var name = $(\"#schname_h\").val();\\r\\n\\r\\n    if(name!=\\'搜索高校\\' && name!=\\'\\'){\\r\\n\\r\\n        var name = encodeURI(name);\\r\\n\\r\\n        window.open(\\'http://college.gaokao.com/schlist/n\\'+name+\\'/\\');\\r\\n\\r\\n    }else{\\r\\n\\r\\n        alert(\\'高校名称不能为空\\');\\r\\n\\r\\n    }\\r\\n\\r\\n});\\r\\n\\r\\n\\r\\n\\r\\n//function navTabs(tabTit2,tabCon2,on2){\\r\\n\\r\\n//\\tvar _on=jQuery(tabTit2).find(\\'.\\'+on2);\\r\\n\\r\\n//\\tvar _i=jQuery(tabTit2).children(\\'span\\').index(_on[0]);\\r\\n\\r\\n//\\tjQuery(tabCon2).each(function(){\\r\\n\\r\\n//\\t\\tjQuery(this).children(\\'div\\').eq(_i).show();\\r\\n\\r\\n//\\t});\\r\\n\\r\\n//\\t$(tabTit2).children(\\'span\\').hoverDelay({\\r\\n\\r\\n//\\t\\thoverDuring: 300,\\r\\n\\r\\n//\\t\\toutDuring: 300,\\r\\n\\r\\n//\\t\\thoverEvent: function(){\\r\\n//\\r\\n//\\t\\t\\tjQuery(this).addClass(on2).siblings(\\'span\\').removeClass(on2);\\r\\n\\r\\n//\\t\\t\\tvar index = jQuery(tabTit2).children(\\'span\\').index(this);\\r\\n\\r\\n//\\t\\t\\tjQuery(tabCon2).children(\\'div\\').eq(index).show().siblings(\\'div\\').hide();\\r\\n\\r\\n//\\t\\t}\\r\\n\\r\\n//\\t});\\r\\n\\r\\n//};\\r\\n\\r\\n//navTabs(\\'#tag_nav\\',\\'#nav_con\\',\\'tag_nav_2\\');\\r\\n\\r\\n\\r\\n\\r\\n$(\\'body\\').append(\"<p id=\\'back-to-top\\'>返回顶部</p>\");\\r\\n\\r\\n$(\"#back-to-top\").hide();\\r\\n\\r\\n$(function(){\\r\\n\\r\\n\\t$(window).scroll(function(){\\r\\n\\r\\n\\t\\tif ($(window).scrollTop()>500){\\r\\n\\r\\n\\t\\t$(\"#back-to-top\").fadeIn();\\r\\n\\r\\n\\t\\t}\\r\\n\\r\\n\\t\\telse\\r\\n\\r\\n\\t\\t{\\r\\n\\r\\n\\t\\t$(\"#back-to-top\").fadeOut();\\r\\n\\r\\n\\t\\t}\\r\\n\\r\\n\\t});\\r\\n\\r\\n\\t$(\"#back-to-top\").click(function(){\\r\\n\\r\\n\\t\\t$(this).animate({ bottom:400,opacity:0},300);\\r\\n\\r\\n\\t\\t$(\\'body,html\\').animate({ scrollTop:0},300,function(){ $(\"#back-to-top\").css(\\'bottom\\',0);$(\"#back-to-top\").animate({ opacity:100})});\\r\\n\\r\\n\\t\\treturn false;\\r\\n\\r\\n\\t});\\r\\n\\r\\n});\\n  </script>\\n  <!--网站新 头结束 -->\\n  <link href=\"http://www.gaokaopai.com/Public/Css/gkb_vip.css\" rel=\"stylesheet\" type=\"text/css\"/>\\n  <script src=\"http://www.gaokaopai.com/Public/Js/mydialog.js\" type=\"text/javascript\">\\n  </script>\\n  <div class=\"zoomIn errorBox\" id=\"errorBox\">\\n   <h4>\\n    <em class=\"tip_gantanhao\">\\n    </em>\\n    所属资料仅支持在高考帮APP上查看\\n   </h4>\\n   <img alt=\"\" src=\"http://www.gaokaopai.com/Public/Images/tips.jpg\"/>\\n   <a class=\"errorBox_close\" href=\"javascript:;\" onclick=\"easyDialog.close();\">\\n   </a>\\n  </div>\\n  <script type=\"text/javascript\">\\n   $(function(){\\r\\n$(\\'.errorTips\\').on(\\'click\\',function(){\\r\\n \\t\\t\\t\\teasyDialog.open({\\r\\n\\t\\t\\t\\t\\tcontainer : \\'errorBox\\',\\r\\n\\t\\t\\t\\t\\tautoClose:false\\r\\n\\t\\t\\t\\t});\\r\\n \\t\\t\\t});\\r\\n})\\n  </script>\\n  <div id=\"wrapper\">\\n   <div class=\"menufix\">\\n    <p>\\n     <strong>\\n      考生所在地：\\n     </strong>\\n     <a href=\"http://college.gaokao.com/spepoint/a100/y2012/\">\\n      全部\\n     </a>\\n     <a class=\"on\" href=\"http://college.gaokao.com/spepoint/a1/y2012/\">\\n      北京\\n     </a>\\n     <a href=\"http://college.gaokao.com/spepoint/a2/y2012/\">\\n      天津\\n     </a>\\n     <a href=\"http://college.gaokao.com/spepoint/a3/y2012/\">\\n      辽宁\\n     </a>\\n     <a href=\"http://college.gaokao.com/spepoint/a4/y2012/\">\\n      吉林\\n     </a>\\n     <a href=\"http://college.gaokao.com/spepoint/a5/y2012/\">\\n      黑龙江\\n     </a>\\n     <a href=\"http://college.gaokao.com/spepoint/a6/y2012/\">\\n      上海\\n     </a>\\n     <a href=\"http://college.gaokao.com/spepoint/a7/y2012/\">\\n      江苏\\n     </a>\\n     <a href=\"http://college.gaokao.com/spepoint/a8/y2012/\">\\n      浙江\\n     </a>\\n     <a href=\"http://college.gaokao.com/spepoint/a9/y2012/\">\\n      安徽\\n     </a>\\n     <a href=\"http://college.gaokao.com/spepoint/a10/y2012/\">\\n      福建\\n     </a>\\n     <a href=\"http://college.gaokao.com/spepoint/a11/y2012/\">\\n      山东\\n     </a>\\n     <a href=\"http://college.gaokao.com/spepoint/a12/y2012/\">\\n      湖北\\n     </a>\\n     <a href=\"http://college.gaokao.com/spepoint/a13/y2012/\">\\n      湖南\\n     </a>\\n     <a href=\"http://college.gaokao.com/spepoint/a14/y2012/\">\\n      广东\\n     </a>\\n     <a href=\"http://college.gaokao.com/spepoint/a15/y2012/\">\\n      重庆\\n     </a>\\n     <a href=\"http://college.gaokao.com/spepoint/a16/y2012/\">\\n      四川\\n     </a>\\n     <a href=\"http://college.gaokao.com/spepoint/a17/y2012/\">\\n      陕西\\n     </a>\\n     <a href=\"http://college.gaokao.com/spepoint/a18/y2012/\">\\n      甘肃\\n     </a>\\n     <a href=\"http://college.gaokao.com/spepoint/a19/y2012/\">\\n      河北\\n     </a>\\n     <a href=\"http://college.gaokao.com/spepoint/a20/y2012/\">\\n      山西\\n     </a>\\n     <a href=\"http://college.gaokao.com/spepoint/a21/y2012/\">\\n      内蒙古\\n     </a>\\n     <a href=\"http://college.gaokao.com/spepoint/a22/y2012/\">\\n      河南\\n     </a>\\n     <a href=\"http://college.gaokao.com/spepoint/a23/y2012/\">\\n      海南\\n     </a>\\n     <a href=\"http://college.gaokao.com/spepoint/a24/y2012/\">\\n      广西\\n     </a>\\n     <a href=\"http://college.gaokao.com/spepoint/a25/y2012/\">\\n      贵州\\n     </a>\\n     <a href=\"http://college.gaokao.com/spepoint/a26/y2012/\">\\n      云南\\n     </a>\\n     <a href=\"http://college.gaokao.com/spepoint/a27/y2012/\">\\n      西藏\\n     </a>\\n     <a href=\"http://college.gaokao.com/spepoint/a28/y2012/\">\\n      青海\\n     </a>\\n     <a href=\"http://college.gaokao.com/spepoint/a29/y2012/\">\\n      宁夏\\n     </a>\\n     <a href=\"http://college.gaokao.com/spepoint/a30/y2012/\">\\n      新疆\\n     </a>\\n     <a href=\"http://college.gaokao.com/spepoint/a31/y2012/\">\\n      江西\\n     </a>\\n     <a href=\"http://college.gaokao.com/spepoint/a33/y2012/\">\\n      香港\\n     </a>\\n     <a href=\"http://college.gaokao.com/spepoint/a38/y2012/\">\\n      澳门\\n     </a>\\n     <a href=\"http://college.gaokao.com/spepoint/a39/y2012/\">\\n      台湾\\n     </a>\\n    </p>\\n    <p>\\n     <strong>\\n      文理分科：\\n     </strong>\\n     <a class=\"on\" href=\"http://college.gaokao.com/spepoint/a1/y2012/\">\\n      全部\\n     </a>\\n    </p>\\n   </div>\\n  </div>\\n </body>\\n</html>'"
      ]
     },
     "execution_count": 14,
     "metadata": {},
     "output_type": "execute_result"
    }
   ],
   "source": [
    "'''\n",
    "#用BeautifulSoup解析\n",
    "r=requests.get(url)\n",
    "html=r.text\n",
    "\n",
    "soup=BeautifulSoup(html,'lxml')\n",
    "soup.prettify()\n",
    "\n",
    "'''\n",
    "\n"
   ]
  },
  {
   "cell_type": "code",
   "execution_count": 8,
   "metadata": {},
   "outputs": [],
   "source": [
    "'''\n",
    "#使用xpath解析\n",
    "r=requests.get(ini_url)\n",
    "html=r.text\n",
    "s = etree.HTML(html)\n",
    "'''"
   ]
  },
  {
   "cell_type": "code",
   "execution_count": 12,
   "metadata": {},
   "outputs": [
    {
     "name": "stdout",
     "output_type": "stream",
     "text": [
      "['环境科学', '北京大学', '639', '646', '北京', '理科', '2012', '第一批', '心理学', '北京大学', '645', '659', '北京', '理科', '2012', '第一批', '考古学', '北京大学', '645', '666', '北京', '理科', '2012', '第一批', '地质学基地班', '北京大学', '647', '654', '北京', '理科', '2012', '第一批', '工程力学类', '北京大学', '649', '662', '北京', '理科', '2012', '第一批', '电子信息科学类', '北京大学', '653', '678', '北京', '理科', '2012', '第一批', '地球与空间科学', '北京大学', '655', '655', '北京', '理科', '2012', '第一批', '新闻传播学类', '北京大学', '655', '670', '北京', '理科', '2012', '第一批', '国际政治', '北京大学', '655', '668', '北京', '理科', '2012', '第一批', '英语', '北京大学', '656', '657', '北京', '理科', '2012', '第一批', '天文学', '北京大学', '658', '666', '北京', '理科', '2012', '第一批', '公共管理类', '北京大学', '659', '663', '北京', '理科', '2012', '第一批', '环境科学类', '北京大学', '659', '666', '北京', '理科', '2012', '第一批', '数学类', '北京大学', '663', '686', '北京', '理科', '2012', '第一批', '生物科学', '北京大学', '664', '691', '北京', '理科', '2012', '第一批', '法学', '北京大学', '664', '690', '北京', '理科', '2012', '第一批', '经济学类', '北京大学', '664', '683', '北京', '理科', '2012', '第一批', '中国语言文学类', '北京大学', '665', '678', '北京', '理科', '2012', '第一批', '化学类', '北京大学', '667', '677', '北京', '理科', '2012', '第一批', '工商管理类', '北京大学', '669', '689', '北京', '理科', '2012', '第一批', '物理学类', '北京大学', '670', '702', '北京', '理科', '2012', '第一批', '理科试验班类', '北京大学', '672', '688', '北京', '理科', '2012', '第一批', '信息管理与信息系统', '北京大学', '600', '600', '北京', '文科', '2012', '第一批', '社会学', '北京大学', '603', '607', '北京', '文科', '2012', '第一批', '公共管理类', '北京大学', '611', '616', '北京', '文科', '2012', '第一批']\n"
     ]
    }
   ],
   "source": [
    "'''\n",
    "data = s.xpath('//*[@id=\"wrapper\"]/div[4]/table/tr/td[position()<9]//text()')\n",
    "print(data)\n",
    "'''"
   ]
  },
  {
   "cell_type": "code",
   "execution_count": null,
   "metadata": {
    "collapsed": true
   },
   "outputs": [],
   "source": []
  }
 ],
 "metadata": {
  "anaconda-cloud": {},
  "kernelspec": {
   "display_name": "Python 3",
   "language": "python",
   "name": "python3"
  },
  "language_info": {
   "codemirror_mode": {
    "name": "ipython",
    "version": 3
   },
   "file_extension": ".py",
   "mimetype": "text/x-python",
   "name": "python",
   "nbconvert_exporter": "python",
   "pygments_lexer": "ipython3",
   "version": "3.6.5"
  }
 },
 "nbformat": 4,
 "nbformat_minor": 1
}
