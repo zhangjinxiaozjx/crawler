{
 "cells": [
  {
   "cell_type": "code",
   "execution_count": 1,
   "metadata": {},
   "outputs": [],
   "source": [
    "#对方法进行封装，形成模板"
   ]
  },
  {
   "cell_type": "code",
   "execution_count": 13,
   "metadata": {},
   "outputs": [],
   "source": [
    "import requests\n",
    "import re\n",
    "from lxml import etree\n",
    "from queue import Queue"
   ]
  },
  {
   "cell_type": "code",
   "execution_count": null,
   "metadata": {},
   "outputs": [],
   "source": [
    "#从01字符串中解析出各标识符的True/False值\n",
    "def getIdenti(identi):\n",
    "    #解析方法"
   ]
  },
  {
   "cell_type": "code",
   "execution_count": 8,
   "metadata": {},
   "outputs": [],
   "source": [
    "#待爬取网页类型\n",
    "\n",
    "#False为静态，True为动态\n",
    "webIsDynamic = False \n",
    "\n",
    "#False为一层，True为两层\n",
    "webDepth = False \n",
    "\n",
    "#False在动态网页下：为指定pagenum范围；静态网页下为：截取当前url获得\n",
    "#True为通过爬取当前网页才能获得\n",
    "pagenumByCra = False"
   ]
  },
  {
   "cell_type": "code",
   "execution_count": 12,
   "metadata": {},
   "outputs": [],
   "source": [
    "#初始url\n",
    "ini_url = ''\n",
    "\n",
    "\n",
    "#若pagenumByCra为false，需要输入pagenum范围或xpath\n",
    "pagenum_false = ''\n",
    "#若pagenumByCra为true,输入爬取所需的xpath\n",
    "pagenum_true = ''\n",
    "\n",
    "#爬取第一层需要的参数：获取二次爬取url列表所需的xpath\n",
    "page_para1 = ''\n",
    "#爬取第二层需要的参数1\n",
    "page_para21 = ''\n",
    "page_para22 = ''"
   ]
  },
  {
   "cell_type": "code",
   "execution_count": 4,
   "metadata": {},
   "outputs": [],
   "source": [
    "\n",
    "def getPage(url,webIsDynamic,headers):\n",
    "    try:\n",
    "        if webIsDynamic:\n",
    "            #对于动态网页的请求方法\n",
    "            r = requests.get(url,headers=headers)\n",
    "        else:\n",
    "            #静态网页请求方法\n",
    "            r = requests.get(url)\n",
    "        \n",
    "        html = r.text\n",
    "        return html\n",
    "    except ValueError:\n",
    "        print(\"输入无效\")\n",
    "        \n",
    "    "
   ]
  },
  {
   "cell_type": "code",
   "execution_count": 5,
   "metadata": {},
   "outputs": [],
   "source": [
    "def parsePagelxml(html):\n",
    "    #静态网页请求后需要用lxml解析\n",
    "    s = etree.HTML(html)\n",
    "    return s"
   ]
  },
  {
   "cell_type": "code",
   "execution_count": 6,
   "metadata": {},
   "outputs": [],
   "source": [
    "#用截取方式获得想要的字符串\n",
    "def getContentCut(regex,ini_str):\n",
    "    matchObj = re.match(r''+regex,ini_str)\n",
    "    Content = matchObj.group(1)\n",
    "    return Content"
   ]
  },
  {
   "cell_type": "code",
   "execution_count": 7,
   "metadata": {},
   "outputs": [],
   "source": [
    "#用爬取的方式获得想要的字符串\n",
    "def getContentCra(xpath,url):\n",
    "    html = getPage(url,webIsDynamic,headers)\n",
    "    s = parsePagelxml(html)\n",
    "    content = s.xpath(xpath)\n",
    "    return content"
   ]
  },
  {
   "cell_type": "code",
   "execution_count": null,
   "metadata": {},
   "outputs": [],
   "source": [
    "#单层爬取的参数获取\n",
    "def getPagenumPara(pagenumByCra):\n",
    "    if pagenumByCra:\n",
    "        param = pagenum_true\n",
    "    else:\n",
    "        parem = pagenum_false\n",
    "    \n",
    "    return param"
   ]
  },
  {
   "cell_type": "code",
   "execution_count": null,
   "metadata": {},
   "outputs": [],
   "source": [
    "#双层爬取的参数获取\n",
    "def getDouPagenumPara():\n",
    "    #第一层的参数\n",
    "    para1 = page_para1\n",
    "    #第二层的参数\n",
    "    para21 = page_para21\n",
    "    para22 = page_para22\n",
    "    \n",
    "    \n",
    "    return para1,para21,para22"
   ]
  },
  {
   "cell_type": "code",
   "execution_count": null,
   "metadata": {},
   "outputs": [],
   "source": [
    "def getPagenum(url,webIsDynamic,pagenumByCra):\n",
    "    #通过某个url获得pagenum或许是截或许是爬，或许是直接指定\n",
    "    param = getPagenumPara(pagenumByCra)\n",
    "    \n",
    "    if pagenumByCra:\n",
    "        #pagenum需要通过爬取网页得到\n",
    "        pagenum_str = getContentCra(param,ini_url)\n",
    "        pagenum = int(pagenum_str)\n",
    "        \n",
    "    else:\n",
    "        if webIsDynamic:\n",
    "            pagenum = int(param)\n",
    "        else:\n",
    "            pagenum_str = getContentCut(param,ini_url)\n",
    "            pagenum = int(pagenum_str)\n",
    "            \n",
    "    return pagenum"
   ]
  },
  {
   "cell_type": "code",
   "execution_count": null,
   "metadata": {},
   "outputs": [],
   "source": [
    "#获得pagenum和url_model的各部分\n",
    "#可以再将两层拆开为两个封装好的方法，进行调用\n",
    "def getUrlStr(ini_url,headers,webDepth,webIsDynamic,pagenumByCra):\n",
    "    url_model = []\n",
    "    pagenum = []\n",
    "    \n",
    "    if webDepth:\n",
    "        #两层应该进行的操作\n",
    "        para1,para21,para22 = getDouPagenumPara()\n",
    "        #首先获取下一次爬取的队列\n",
    "        html = getPage(ini_url,webIsDynamic,headers)\n",
    "        s = parsePagelxml(html)\n",
    "        url = getContentCra(para1,ini_url)\n",
    "        queueYear = Queue()\n",
    "        for i in range(1,len(url)):\n",
    "            queueYear.put(url[i])\n",
    "        \n",
    "        #第二次爬取的操作\n",
    "        queueLast = Queue()\n",
    "        while not queueYear.empty():\n",
    "            nexturl = queueYear.get()\n",
    "            html2 = getPage(nexturl,webIsDynamic,headers)\n",
    "            s2 = parsePagelxml(html2)\n",
    "            pagenumUrl = s2.xpath(para21)\n",
    "            queueLast.put(next_content[0])\n",
    "            \n",
    "        while not queueLast.empty():\n",
    "            lasturl = queueLast.get()\n",
    "            matchObj1 = re.match(r''+para22,lasturl,re.M | re.U)\n",
    "            \n",
    "            url_mo = matchObj1.group(1)\n",
    "            url_model.append(url_mo)\n",
    "            \n",
    "            pagenum_here = matchObj1.group(2)\n",
    "            pagenum.append(pagenum_here)\n",
    "            #爬两层的网页中，需要model和pagenum一一对应\n",
    "            \n",
    "       \n",
    "        \n",
    "    else:\n",
    "        #一层应该进行的操作\n",
    "        pagenum_here = getPagenum(ini_url,webIsDynamic,pagenumByCra)\n",
    "        pagenum.append(pagenum_here)\n",
    "        \n",
    "        \n",
    "        \n",
    "        "
   ]
  }
 ],
 "metadata": {
  "kernelspec": {
   "display_name": "Python 3",
   "language": "python",
   "name": "python3"
  },
  "language_info": {
   "codemirror_mode": {
    "name": "ipython",
    "version": 3
   },
   "file_extension": ".py",
   "mimetype": "text/x-python",
   "name": "python",
   "nbconvert_exporter": "python",
   "pygments_lexer": "ipython3",
   "version": "3.6.5"
  }
 },
 "nbformat": 4,
 "nbformat_minor": 2
}
