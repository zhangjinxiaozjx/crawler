{
 "cells": [
  {
   "cell_type": "code",
   "execution_count": 1,
   "metadata": {},
   "outputs": [],
   "source": [
    "import requests\n",
    "from lxml import etree\n",
    "import urllib3.request\n",
    "from collections import OrderedDict\n",
    "import json\n",
    "from jsonpath_rw import jsonpath,parse\n",
    "import re"
   ]
  },
  {
   "cell_type": "code",
   "execution_count": 2,
   "metadata": {},
   "outputs": [],
   "source": [
    "url = 'http://kaoshi.edu.sina.com.cn/?p=college&s=api2015&a=getAllCollege&callback=jQuery11120519655322030758_1531274044575&_=1531274044576'\n"
   ]
  },
  {
   "cell_type": "code",
   "execution_count": 3,
   "metadata": {},
   "outputs": [],
   "source": [
    "r = requests.get(url)\n",
    "html = r.text"
   ]
  },
  {
   "cell_type": "code",
   "execution_count": 4,
   "metadata": {},
   "outputs": [
    {
     "name": "stdout",
     "output_type": "stream",
     "text": [
      "\r\n",
      "\r\n",
      "\r\n",
      "\r\n",
      "    <html>\r\n",
      "    <head>\r\n",
      "    <meta http-equiv=\"Content-Type\" content=\"text/html; charset=ISO-8859-1\">\r\n",
      "    <script language=\"JavaScript\">\r\n",
      "    <!--\r\n",
      "    function replace()\r\n",
      "    {\r\n",
      "        if (navigator.language)\r\n",
      "        {\r\n",
      "            language = navigator.language;\r\n",
      "        }\r\n",
      "        if (navigator.browserLanguage)\r\n",
      "        {\r\n",
      "            language = navigator.browserLanguage;\r\n",
      "        }\r\n",
      "\r\n",
      "        if (language == \"\")\r\n",
      "           language = \"en\";\r\n",
      "        else\r\n",
      "           language = language.substring(0,2);\r\n",
      "\r\n",
      "        if (language==\"zh\")\r\n",
      "            language=\"Chinese\"\r\n",
      "        else\r\n",
      "            language=\"English\"\r\n",
      "        replace_url =\"http://192.168.8.10:80/portal/index_select.jsp?Language=\" + language;\r\n",
      "        location.replace(replace_url);\r\n",
      "\r\n",
      "    }\r\n",
      "    //-->\r\n",
      "    </script>\r\n",
      "    </head>\r\n",
      "    <body onload=\"javascript:replace();\">\r\n",
      "    </body>\r\n",
      "    </html>\r\n",
      "\r\n",
      "\n"
     ]
    }
   ],
   "source": [
    "print(html)"
   ]
  },
  {
   "cell_type": "code",
   "execution_count": null,
   "metadata": {},
   "outputs": [],
   "source": []
  }
 ],
 "metadata": {
  "kernelspec": {
   "display_name": "Python 3",
   "language": "python",
   "name": "python3"
  },
  "language_info": {
   "codemirror_mode": {
    "name": "ipython",
    "version": 3
   },
   "file_extension": ".py",
   "mimetype": "text/x-python",
   "name": "python",
   "nbconvert_exporter": "python",
   "pygments_lexer": "ipython3",
   "version": "3.6.5"
  }
 },
 "nbformat": 4,
 "nbformat_minor": 2
}
